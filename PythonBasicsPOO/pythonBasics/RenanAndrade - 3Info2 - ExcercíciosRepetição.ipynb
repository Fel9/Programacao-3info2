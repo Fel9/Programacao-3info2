{
  "nbformat": 4,
  "nbformat_minor": 0,
  "metadata": {
    "colab": {
      "name": "RenanAndrade - 3Info2 - ExercíciosVetoresMatrizes.ipynb",
      "provenance": [],
      "collapsed_sections": []
    },
    "kernelspec": {
      "name": "python3",
      "display_name": "Python 3"
    },
    "language_info": {
      "name": "python"
    }
  },
  "cells": [
    {
      "cell_type": "markdown",
      "metadata": {
        "id": "LtXINeRQArRp"
      },
      "source": [
        "7) Escreva um algoritmo que leia um vetor de 200 valores numéricos reais e os imprima na\n",
        "ordem contrária em que foi lida."
      ]
    },
    {
      "cell_type": "code",
      "metadata": {
        "colab": {
          "base_uri": "https://localhost:8080/"
        },
        "id": "DzpYUlCoA9Ao",
        "outputId": "5bd38f3e-a23a-4c08-8200-f9c8775a634a"
      },
      "source": [
        "from random import randint\n",
        "\n",
        "lista = []\n",
        "menorLimite = int(\n",
        "    input(\n",
        "        \"Os valores da lista com 200 elementos serão decididos aleatóriamente, porém é necessário um valor inteiro mínimo limitante: \\n ─> \"\n",
        "    )\n",
        ")\n",
        "maiorLimite = int(input(\"Digite o valor inteiro máximo limitante: \\n ─> \"))\n",
        "\n",
        "for i in range(200):\n",
        "    lista.append(randint(menorLimite, maiorLimite))\n",
        "listaInversa = lista[::-1]\n",
        "strNumerica = \"\"\n",
        "for elemento in listaInversa:\n",
        "    strNumerica += str(elemento) + \"; \"\n",
        "print(\n",
        "    \"O inverso da lista de 200 valore aleatórios, dado seus limites máximos e mínimos, é:\",\n",
        "    strNumerica,\n",
        ")"
      ],
      "execution_count": null,
      "outputs": [
        {
          "output_type": "stream",
          "text": [
            "Os valores da lista com 200 elementos serão decididos aleatóriamente, porém é necessário um valor inteiro mínimo limitante: \n",
            " ─> -100\n",
            "Digite o valor inteiro máximo limitante: \n",
            " ─> 100\n",
            "O inverso da lista de 200 valore aleatórios, dado seus limites máximos e mínimos, é: -4; -63; 48; -1; -95; -50; 35; -85; 7; 25; -92; -41; 15; -7; -54; 72; 92; 76; 76; 67; 15; 48; 32; 48; -6; -88; 18; 61; -96; 19; 14; 90; -86; 10; -7; 76; 59; 39; -2; -24; 21; 51; -66; 79; 21; 82; -100; 34; -48; -97; 42; -59; -1; 5; -64; 73; 62; -47; -69; -73; 94; 100; -2; 17; 65; -89; -45; -6; -97; -63; 20; 5; -6; -47; -22; 90; -7; 35; 17; -63; -18; 93; -7; 28; -50; -36; -62; 38; 41; 55; -33; -4; 98; -74; 49; -75; 73; -33; 61; 96; -98; -16; 18; 98; -83; 53; 36; 90; 71; -79; 7; -93; 35; 75; -73; 75; -79; 31; 46; 17; -61; -47; 74; -16; 87; -35; 41; -86; 17; -42; -75; 68; 53; 22; -61; 51; 62; 8; 72; -91; -95; -100; 92; -27; 91; -62; 18; -37; 82; 85; 13; -13; 92; -82; -87; 58; 28; 60; -63; 67; 86; 38; 17; -97; -54; 41; 43; 64; 17; 42; 40; 53; 54; -83; -80; -41; -53; 90; -26; -70; -88; 3; 72; -24; -22; 27; 22; -58; -66; 86; -78; 11; 26; -93; -17; 42; -87; 53; 99; -55; \n"
          ],
          "name": "stdout"
        }
      ]
    },
    {
      "cell_type": "markdown",
      "metadata": {
        "id": "VEa_8yyX1gHt"
      },
      "source": [
        "10) Escreva um algoritmo que:\n",
        "\n",
        "a) leia 100 valores numéricos e os armazene numa variável composta unidimensional A;\n",
        "\n",
        "b) calcule e escreva:\n",
        "\n",
        "c) calcule e escreva quantos termos da série acima têm o numerador menor do que o\n",
        "denominador."
      ]
    },
    {
      "cell_type": "code",
      "metadata": {
        "id": "r4GbR3f2G3mN",
        "colab": {
          "base_uri": "https://localhost:8080/"
        },
        "outputId": "be582d56-2575-41e7-c173-f42964cda9f2"
      },
      "source": [
        "from random import randint\n",
        "\n",
        "matriz = []\n",
        "menorLimite = int(\n",
        "    input(\n",
        "        \"Os valores da matriz com 100 linhas serão decididos aleatóriamente, porém é necessário um valor inteiro mínimo limitante: \\n ─> \"\n",
        "    )\n",
        ")\n",
        "maiorLimite = int(input(\"Digite o valor inteiro máximo limitante: \\n ─> \"))\n",
        "soma = 0\n",
        "numeradorMenor = 0\n",
        "for i in range(100):\n",
        "    matriz.append(randint(menorLimite, maiorLimite))\n",
        "    if i < matriz[i]:\n",
        "        numeradorMenor += 1\n",
        "    if matriz[i] == 0:\n",
        "      matriz[i] = randint(1, maiorLimite)\n",
        "    soma += i / matriz[i]\n",
        "print(\n",
        "    \"A soma dos valores é igual a: \" + str(round(soma, 2)) + \";\",\n",
        "    \"E a quantidade de numeradores menor que seu denominador é:\",\n",
        "    numeradorMenor,\n",
        ")"
      ],
      "execution_count": null,
      "outputs": [
        {
          "output_type": "stream",
          "text": [
            "Os valores da matriz com 100 linhas serão decididos aleatóriamente, porém é necessário um valor inteiro mínimo limitante: \n",
            " ─> -10\n",
            "Digite o valor inteiro máximo limitante: \n",
            " ─> 10\n",
            "A soma dos valores é igual a: 441.48; E a quantidade de numeradores menor que seu denominador é: 4\n"
          ],
          "name": "stdout"
        }
      ]
    },
    {
      "cell_type": "markdown",
      "metadata": {
        "id": "S466MBBzC2Jq"
      },
      "source": [
        "14) Um armazém trabalha com 100 mercadorias diferentes identificadas pelos números inteiros de\n",
        "0 a 99. O dono do armazém anota a quantidade de cada mercadoria vendida durante o mês.\n",
        "Ele tem uma tabela mensal que indica para cada mercadoria o preço de venda. Escreva o\n",
        "algoritmo para calcular o faturamento mensal do armazém, isto é:\n",
        "\n",
        "As tabelas de preço e quantidade são fornecidas em dois vetores."
      ]
    },
    {
      "cell_type": "code",
      "metadata": {
        "colab": {
          "base_uri": "https://localhost:8080/"
        },
        "id": "sIteX2d1CGr5",
        "outputId": "5454db7f-90a1-4d8e-d5f1-82482ab4f513"
      },
      "source": [
        "from random import randint\n",
        "\n",
        "preço, produtos = [], []\n",
        "menorLimite = int(\n",
        "    input(\n",
        "        \"Os valores das matrizes preço e produto serão decididos aleatóriamente, porém é necessário um valor natural mínimo limitante: \\n ─> \"\n",
        "    )\n",
        ")\n",
        "maiorLimite = int(input(\"Digite o valor natural máximo limitante: \\n ─> \"))\n",
        "faturamento = 0\n",
        "for i in range(99):\n",
        "    preço.append(randint(menorLimite, maiorLimite))\n",
        "    produtos.append(randint(menorLimite, maiorLimite))\n",
        "    faturamento += preço[i] * produtos[i]\n",
        "print(\"O faturamento é de\",faturamento,\"reais, mensalmente.\")\n"
      ],
      "execution_count": null,
      "outputs": [
        {
          "output_type": "stream",
          "text": [
            "Os valores das matrizes preço e produto serão decididos aleatóriamente, porém é necessário um valor natural mínimo limitante: \n",
            " ─> 0\n",
            "Digite o valor natural máximo limitante: \n",
            " ─> 50\n",
            "O faturamento é de 63384 reais, mensalmente.\n"
          ],
          "name": "stdout"
        }
      ]
    },
    {
      "cell_type": "markdown",
      "metadata": {
        "id": "DzYe3qWpDH2P"
      },
      "source": [
        "15) Classificar um vetor numérico VET de 20 elementos em ordem crescente."
      ]
    },
    {
      "cell_type": "code",
      "metadata": {
        "colab": {
          "base_uri": "https://localhost:8080/"
        },
        "id": "5IkXAYm8DIiQ",
        "outputId": "b59a490f-4fa4-4534-cd60-3b29de8a5f6d"
      },
      "source": [
        "from random import randint\n",
        "\n",
        "vet = []\n",
        "menorLimite = int(\n",
        "    input(\n",
        "        \"Os valores do vetor de 20 elementos serão decididos aleatóriamente, porém é necessário um valor inteiro mínimo limitante: \\n ─> \"\n",
        "    )\n",
        ")\n",
        "maiorLimite = int(input(\"Digite o valor inteiro máximo limitante: \\n ─> \"))\n",
        "for i in range(20):\n",
        "    vet.append(randint(menorLimite, maiorLimite))\n",
        "vet.sort();\n",
        "print(\"A vetor inverso é\", vet);"
      ],
      "execution_count": null,
      "outputs": [
        {
          "output_type": "stream",
          "text": [
            "Os valores da matriz de 20 elementos serão decididos aleatóriamente, porém é necessário um valor inteiro mínimo limitante: \n",
            " ─> -50\n",
            "Digite o valor inteiro máximo limitante: \n",
            " ─> 200\n",
            "A matriz inversa é [9, 14, 29, 40, 41, 43, 69, 76, 77, 91, 115, 132, 132, 138, 148, 169, 182, 185, 190, 195]\n"
          ],
          "name": "stdout"
        }
      ]
    },
    {
      "cell_type": "markdown",
      "metadata": {
        "id": "zaOIhUclb8Ie"
      },
      "source": [
        "18) Faça um algoritmo qualquer que leia uma matriz A de 15 linhas por 25 colunas e imprima o\n",
        "seu conteúdo."
      ]
    },
    {
      "cell_type": "code",
      "metadata": {
        "id": "ODfr0yOcb8m6"
      },
      "source": [
        "from random import randint\n",
        "\n",
        "matrizA = []\n",
        "menorLimite = int(\n",
        "    input(\n",
        "        \"Os valores das matrizes 15x25 serão decididos aleatóriamente, porém é necessário um valor inteiro mínimo limitante: \\n ─> \"\n",
        "    )\n",
        ")\n",
        "maiorLimite = int(input(\"Digite o valor inteiro máximo limitante: \\n ─> \"))\n",
        "\n",
        "\n",
        "def linhasRandomicas():\n",
        "    linhas = []\n",
        "    for i in range(25):\n",
        "        linhas.append(randint(menorLimite, maiorLimite))\n",
        "    return linhas\n",
        "\n",
        "\n",
        "print(\"A matriz 15x25 randomizada é:\")\n",
        "for linha in range(15):\n",
        "    matrizA.append(linhasRandomicas())\n",
        "    print(matrizA[linha])\n"
      ],
      "execution_count": null,
      "outputs": []
    },
    {
      "cell_type": "markdown",
      "metadata": {
        "id": "FCd-dYlLQmKp"
      },
      "source": [
        "21) Elabore um algoritmo que leia uma matriz 4 x 4 e escreva a matriz resultante após ter multiplicado os elementos da diagonal principal por uma constante k."
      ]
    },
    {
      "cell_type": "code",
      "metadata": {
        "id": "FGC1fQhlQgkL"
      },
      "source": [
        "from random import randint\n",
        "\n",
        "matriz = []\n",
        "menorLimite = int(\n",
        "    input(\n",
        "        \"Os valores da matriz 4x4 serão decididos aleatóriamente, porém é necessário um valor inteiro mínimo limitante: \\n ─> \"\n",
        "    )\n",
        ")\n",
        "maiorLimite = int(input(\"Digite o valor inteiro máximo limitante: \\n ─> \"))\n",
        "k = randint(menorLimite, maiorLimite)\n",
        "\n",
        "\n",
        "def linhasRandomicas():\n",
        "    linhas = []\n",
        "    for i in range(4):\n",
        "        linhas.append(randint(menorLimite, maiorLimite))\n",
        "    return linhas\n",
        "\n",
        "\n",
        "print(\"A matriz obtida ao multiplicar cada elemento da diagonal principal por k é:\")\n",
        "for j in range(4):\n",
        "    matriz.append(linhasRandomicas())\n",
        "    matriz[j][j] *= k\n",
        "    print(matriz[j])\n"
      ],
      "execution_count": null,
      "outputs": []
    },
    {
      "cell_type": "markdown",
      "metadata": {
        "id": "KV2gbj4fqW9x"
      },
      "source": [
        "22) Escreva um algoritmo que:\n",
        "\n",
        "a) leia uma matriz quadrada 20 x 20 de elementos reais;\n",
        "\n",
        "b) divida cada elemento de uma linha da matriz pelo elemento da diagonal principal dessa linha;\n",
        "\n",
        "c) imprima a matriz assim modificada;"
      ]
    },
    {
      "cell_type": "code",
      "metadata": {
        "id": "hH_exyo6r6j3",
        "colab": {
          "base_uri": "https://localhost:8080/"
        },
        "outputId": "4f9e30cb-4ac0-45a2-ed4e-8f4669831170"
      },
      "source": [
        "from random import randint\n",
        "\n",
        "matriz = []\n",
        "menorLimite = int(\n",
        "    input(\n",
        "        \"Os valores da matriz 20x20 serão decididos aleatóriamente, porém é necessário um valor inteiro mínimo limitante: \\n ─> \"\n",
        "    )\n",
        ")\n",
        "maiorLimite = int(input(\"Digite o valor inteiro máximo limitante: \\n ─> \"))\n",
        "escolha = str(input(\"Deseja efetuar a divisão em todas as linhas? [s/n] \\n ─> \"))\n",
        "escolhasAfirmativas = [\"s\", \"y\", \"sim\", \"yes\", \"\"]\n",
        "divisaoBidimensional = []\n",
        "linha = 0\n",
        "\n",
        "\n",
        "def divisaoTotalMatriz():\n",
        "    divisao = []\n",
        "    for i in range(20):\n",
        "        if matriz[linha][linha] == 0:\n",
        "            matriz[linha][linha] = randint(1, maiorLimite)\n",
        "        divisao.append(round(matriz[linha][i] / matriz[linha][linha], 1))\n",
        "    return divisao\n",
        "\n",
        "\n",
        "def linhasRandomicas():\n",
        "    linhas = []\n",
        "    for i in range(20):\n",
        "        linhas.append(randint(menorLimite, maiorLimite))\n",
        "    return linhas\n",
        "\n",
        "\n",
        "if escolha.lower() in escolhasAfirmativas:\n",
        "    print(\n",
        "        \"A matriz obtida por dividir cada elemento da linha, pelo elemento da diagonal principal dessa linha é:\",\n",
        "    )\n",
        "    for j in range(20):\n",
        "        matriz.append(linhasRandomicas())\n",
        "    for index in range(20):\n",
        "        divisaoBidimensional.append(divisaoTotalMatriz())\n",
        "        print(divisaoBidimensional[index])\n",
        "        linha += 1\n",
        "else:\n",
        "    linhasEscolhidas = []\n",
        "    enter = False\n",
        "    print(\"Esta é a matriz 'crua'\")\n",
        "    for j in range(20):\n",
        "        matriz.append(linhasRandomicas())\n",
        "        print(matriz[j])\n",
        "    while not enter:\n",
        "        escolha = input(\n",
        "            \"Digite o número das linhas que deseja modificar, com Enter entre valores (pressionando Enter sem nenhum número digitado, avançará a etapa): [ex: 4] \\n ─> \"\n",
        "        )\n",
        "        if escolha == \"\":\n",
        "            enter = True\n",
        "            print(\"Eis a matriz modificada: \")\n",
        "        else:\n",
        "            print(\"Valor digitado ─>\", escolha)\n",
        "            linhasEscolhidas.append(int(escolha))\n",
        "    for i in linhasEscolhidas:\n",
        "        elementoDiagonal = matriz[i][i]\n",
        "        for j in range(20):\n",
        "            matriz[i][j] = round(matriz[i][j] / elementoDiagonal, 1)\n",
        "    if (\n",
        "        input(\n",
        "            \"Deseja ver toda a matriz e suas modifcações? Caso contrário será exibido somente as linhas inseridas na pergunta anterior. [s/n] \\n ─> \"\n",
        "        )\n",
        "        in escolhasAfirmativas\n",
        "    ):\n",
        "        print(\"Eis a matriz com suas devidas modificações\")\n",
        "        for index in range(20):\n",
        "            print(matriz[index])\n",
        "    else:\n",
        "        print(\"Eis as linhas modificadas\")\n",
        "        for index in range(len(linhasEscolhidas)):\n",
        "            print(matriz[linhasEscolhidas[index]])\n"
      ],
      "execution_count": null,
      "outputs": [
        {
          "output_type": "stream",
          "text": [
            "Os valores da matriz 20x20 serão decididos aleatóriamente, porém é necessário um valor inteiro mínimo limitante: \n",
            " ─> 0\n",
            "Digite o valor inteiro máximo limitante: \n",
            " ─> 200\n",
            "Deseja efetuar a divisão em todas as linhas? [s/n] \n",
            " ─> n\n",
            "Esta é a matriz 'crua'\n",
            "[148, 52, 106, 139, 50, 111, 4, 34, 147, 86, 53, 104, 16, 90, 186, 144, 78, 106, 127, 0]\n",
            "[85, 124, 80, 6, 43, 131, 12, 20, 23, 48, 18, 138, 87, 0, 123, 157, 136, 111, 180, 63]\n",
            "[11, 197, 79, 42, 78, 93, 15, 87, 96, 13, 48, 4, 57, 107, 199, 17, 21, 42, 183, 12]\n",
            "[49, 163, 119, 99, 43, 72, 155, 59, 84, 158, 99, 1, 9, 188, 131, 14, 195, 90, 188, 136]\n",
            "[35, 95, 52, 73, 36, 135, 18, 78, 110, 30, 1, 15, 108, 51, 51, 168, 33, 161, 141, 5]\n",
            "[149, 24, 108, 196, 6, 30, 70, 21, 87, 122, 1, 181, 5, 5, 188, 70, 178, 178, 199, 124]\n",
            "[8, 134, 113, 132, 121, 200, 194, 83, 136, 107, 11, 89, 98, 82, 42, 120, 193, 59, 52, 145]\n",
            "[154, 107, 100, 60, 35, 92, 82, 16, 148, 42, 29, 70, 3, 167, 86, 103, 171, 81, 97, 83]\n",
            "[131, 21, 50, 36, 181, 73, 186, 149, 138, 21, 79, 120, 160, 3, 142, 142, 30, 124, 146, 0]\n",
            "[190, 50, 108, 124, 67, 182, 57, 173, 197, 42, 115, 146, 121, 134, 54, 189, 142, 62, 88, 62]\n",
            "[5, 14, 121, 103, 60, 53, 4, 101, 101, 143, 58, 83, 23, 86, 18, 103, 176, 200, 83, 133]\n",
            "[56, 167, 116, 133, 111, 146, 103, 147, 184, 18, 194, 192, 149, 147, 23, 105, 69, 65, 30, 1]\n",
            "[80, 178, 161, 54, 156, 70, 158, 52, 198, 27, 140, 29, 129, 54, 98, 75, 136, 127, 63, 142]\n",
            "[27, 41, 62, 22, 64, 116, 159, 102, 151, 137, 75, 156, 193, 28, 109, 136, 46, 30, 190, 183]\n",
            "[91, 122, 82, 8, 28, 110, 33, 9, 19, 183, 99, 21, 94, 183, 125, 83, 165, 151, 182, 87]\n",
            "[170, 68, 15, 190, 191, 49, 37, 38, 198, 107, 162, 42, 33, 122, 167, 41, 33, 57, 59, 95]\n",
            "[103, 115, 142, 98, 166, 115, 119, 101, 16, 7, 34, 18, 46, 14, 4, 126, 45, 41, 52, 130]\n",
            "[88, 70, 37, 135, 25, 94, 43, 16, 120, 23, 32, 147, 80, 18, 165, 17, 75, 179, 178, 19]\n",
            "[96, 136, 129, 98, 93, 131, 98, 22, 98, 174, 53, 27, 72, 138, 49, 77, 79, 161, 142, 104]\n",
            "[7, 27, 189, 65, 168, 34, 146, 159, 180, 28, 110, 182, 120, 164, 171, 200, 143, 116, 127, 122]\n",
            "Digite o número das linhas que deseja modificar, com Enter entre valores (pressionando Enter sem nenhum número digitado, avançará a etapa): [ex: 4] \n",
            " ─> 2\n",
            "Valor digitado ─> 2\n",
            "Digite o número das linhas que deseja modificar, com Enter entre valores (pressionando Enter sem nenhum número digitado, avançará a etapa): [ex: 4] \n",
            " ─> 15\n",
            "Valor digitado ─> 15\n",
            "Digite o número das linhas que deseja modificar, com Enter entre valores (pressionando Enter sem nenhum número digitado, avançará a etapa): [ex: 4] \n",
            " ─> 3\n",
            "Valor digitado ─> 3\n",
            "Digite o número das linhas que deseja modificar, com Enter entre valores (pressionando Enter sem nenhum número digitado, avançará a etapa): [ex: 4] \n",
            " ─> \n",
            "Eis a matriz modificada: \n",
            "Deseja ver toda a matriz e suas modifcações? Caso contrário será exibido somente as linhas inseridas na pergunta anterior. [s/n] \n",
            " ─> n\n",
            "Eis as linhas modificadas\n",
            "[0.1, 2.5, 1.0, 0.5, 1.0, 1.2, 0.2, 1.1, 1.2, 0.2, 0.6, 0.1, 0.7, 1.4, 2.5, 0.2, 0.3, 0.5, 2.3, 0.2]\n",
            "[4.1, 1.7, 0.4, 4.6, 4.7, 1.2, 0.9, 0.9, 4.8, 2.6, 4.0, 1.0, 0.8, 3.0, 4.1, 1.0, 0.8, 1.4, 1.4, 2.3]\n",
            "[0.5, 1.6, 1.2, 1.0, 0.4, 0.7, 1.6, 0.6, 0.8, 1.6, 1.0, 0.0, 0.1, 1.9, 1.3, 0.1, 2.0, 0.9, 1.9, 1.4]\n"
          ],
          "name": "stdout"
        }
      ]
    },
    {
      "cell_type": "markdown",
      "metadata": {
        "id": "R9I19RXZtK5D"
      },
      "source": [
        "23) Faça um algoritmo que:\n",
        "\n",
        "a) leia uma matriz 10 x 10 de elementos inteiros;\n",
        "\n",
        "b) imprima essa matriz;\n",
        "\n",
        "c) calcule e imprima a soma dos elementos situados abaixo da diagonal principal da matriz,\n",
        "incluindo os elementos da própria diagonal principal."
      ]
    },
    {
      "cell_type": "code",
      "metadata": {
        "colab": {
          "base_uri": "https://localhost:8080/"
        },
        "id": "xKVt3eD6tJVi",
        "outputId": "48c6c216-ab8c-4aaa-abec-7de6a448a1da"
      },
      "source": [
        "from random import randint\n",
        "\n",
        "matriz = []\n",
        "menorLimite = int(\n",
        "    input(\n",
        "        \"Os valores da matriz 10x10 serão decididos aleatóriamente, porém é necessário um valor inteiro mínimo limitante: \\n ─> \"\n",
        "    )\n",
        ")\n",
        "maiorLimite = int(input(\"Digite o valor inteiro máximo limitante: \\n ─> \"))\n",
        "\n",
        "\n",
        "def linhasRandomicas():\n",
        "    linhas = []\n",
        "    for i in range(10):\n",
        "        linhas.append(randint(menorLimite, maiorLimite))\n",
        "    return linhas\n",
        "\n",
        "\n",
        "def somaTrianguloInferior(linha):\n",
        "    totalPorLinha = 0\n",
        "    for j in range(linha + 1):\n",
        "        totalPorLinha += matriz[linha][j]\n",
        "    return totalPorLinha\n",
        "\n",
        "\n",
        "soma = 0\n",
        "for linha in range(10):\n",
        "    matriz.append(linhasRandomicas())\n",
        "    print(matriz[linha])\n",
        "    soma += somaTrianguloInferior(linha)\n",
        "print(\"A soma do triangulo inferior à diagonal principal é:\", soma)"
      ],
      "execution_count": null,
      "outputs": [
        {
          "output_type": "stream",
          "text": [
            "Os valores da matriz 10x10 serão decididos aleatóriamente, porém é necessário um valor inteiro mínimo limitante: \n",
            " ─> -700\n",
            "Digite o valor inteiro máximo limitante: \n",
            " ─> 700\n",
            "[-689, 365, 440, -601, 679, 311, -647, -634, 430, 97]\n",
            "[270, 409, -48, -497, -23, -579, -476, 496, -577, -1]\n",
            "[-52, 546, -428, -41, 600, 108, -627, -435, -119, -282]\n",
            "[-485, -696, 389, -685, 594, -99, -129, 511, -116, 654]\n",
            "[298, -537, -322, -170, -546, 236, 354, 314, -164, 433]\n",
            "[-405, -119, 148, 359, 653, -282, 536, 159, -483, 249]\n",
            "[487, 338, 10, 569, -563, -214, 493, 137, -446, 99]\n",
            "[-533, 93, -192, -322, 575, -268, 458, 525, 376, 601]\n",
            "[-148, 29, 176, -445, -607, -18, 70, 92, -160, 187]\n",
            "[128, 684, -675, -563, 232, -668, -392, 256, -225, -15]\n",
            "A soma do triangulo inferior à diagonal principal é: -3137\n"
          ],
          "name": "stdout"
        }
      ]
    },
    {
      "cell_type": "markdown",
      "metadata": {
        "id": "1mNm50i_y2Oy"
      },
      "source": [
        "24) Escreva um algoritmo que leia duas matrizes reais de dimensão 3 x 5, calcule e imprima a sua\n",
        "soma."
      ]
    },
    {
      "cell_type": "code",
      "metadata": {
        "colab": {
          "base_uri": "https://localhost:8080/"
        },
        "id": "MloyY1sPy3kK",
        "outputId": "51d0bba6-4113-43eb-f2ed-395e7eba0424"
      },
      "source": [
        "from random import randint\n",
        "\n",
        "matrizA, matrizB, matrizC = [], [], []\n",
        "menorLimite = int(\n",
        "    input(\n",
        "        \"Os valores das matrizes 3x5 serão decididos aleatóriamente, porém é necessário um valor inteiro mínimo limitante: \\n ─> \"\n",
        "    )\n",
        ")\n",
        "maiorLimite = int(input(\"Digite o valor inteiro máximo limitante: \\n ─> \"))\n",
        "\n",
        "\n",
        "def linhasRandomicas():\n",
        "    linhas = []\n",
        "    for i in range(5):\n",
        "        linhas.append(randint(menorLimite, maiorLimite))\n",
        "    return linhas\n",
        "\n",
        "\n",
        "def somaMatrizes(linha):\n",
        "    soma = 0\n",
        "    somaLinha = []\n",
        "    for posiçao in range(5):\n",
        "        soma = matrizA[linha][posiçao] + matrizB[linha][posiçao]\n",
        "        somaLinha.append(soma)\n",
        "    return somaLinha\n",
        "\n",
        "print(\"As matrizes A e B somadas equivalem a:\")\n",
        "for linha in range(3):\n",
        "    matrizA.append(linhasRandomicas())\n",
        "    matrizB.append(linhasRandomicas())\n",
        "    matrizC.append(somaMatrizes(linha))\n",
        "    print(matrizC[linha])\n"
      ],
      "execution_count": null,
      "outputs": [
        {
          "output_type": "stream",
          "text": [
            "Os valores das matrizes 3x5 serão decididos aleatóriamente, porém é necessário um valor inteiro mínimo limitante: \n",
            " ─> 0\n",
            "Digite o valor inteiro máximo limitante: \n",
            " ─> 5000\n",
            "As matrizes A e B somadas equivalem a:\n",
            "[7007, 4849, 8631, 5956, 4311]\n",
            "[1732, 3290, 4269, 6727, 8700]\n",
            "[2480, 4995, 1768, 5802, 6941]\n"
          ],
          "name": "stdout"
        }
      ]
    },
    {
      "cell_type": "markdown",
      "metadata": {
        "id": "HKKniE_2ORMb"
      },
      "source": [
        "25) Dada uma matriz MAT de 4 x 5 elementos, faça um algoritmo para somar os elementos de\n",
        "cada linha gerando o vetor SOMALINHA. Em seguida, somar os elementos do vetor SOMALINHA\n",
        "na variável TOTAL que deve ser impressa no final."
      ]
    },
    {
      "cell_type": "code",
      "metadata": {
        "id": "X7EAFj4XOT9T"
      },
      "source": [
        "from random import randint\n",
        "\n",
        "matrizA = []\n",
        "menorLimite = int(\n",
        "    input(\n",
        "        \"Os valores das matrizes 3x5 serão decididos aleatóriamente, porém é necessário um valor inteiro mínimo limitante: \\n ─> \"\n",
        "    )\n",
        ")\n",
        "maiorLimite = int(input(\"Digite o valor inteiro máximo limitante: \\n ─> \"))\n",
        "\n",
        "\n",
        "def linhasRandomicas():\n",
        "    somaLinha = []\n",
        "    mat = []\n",
        "    soma = 0\n",
        "    for i in range(5):\n",
        "        mat.append(randint(menorLimite, maiorLimite))\n",
        "        soma += mat[i]\n",
        "    print(\"Linha da MAT:\", mat)\n",
        "    somaLinha.append(soma)\n",
        "    print(\"Vetor SOMALINHA correspondente à linha acima:\", somaLinha[0])\n",
        "    return somaLinha\n",
        "\n",
        "\n",
        "total = 0\n",
        "print(\n",
        "    \"O total ─ após somar as linhas de uma matriz, e da resultante, sua única coluna ─, é:\"\n",
        ")\n",
        "for linha in range(4):\n",
        "    matrizA.append(linhasRandomicas())\n",
        "    total += matrizA[linha][0]\n",
        "print(\"Esta é a variável TOTAL:\", total)\n"
      ],
      "execution_count": null,
      "outputs": []
    }
  ]
}