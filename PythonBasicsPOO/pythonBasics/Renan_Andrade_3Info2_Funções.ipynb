{
  "nbformat": 4,
  "nbformat_minor": 0,
  "metadata": {
    "colab": {
      "name": "Renan Andrade - 3Info2 - Funções.ipynb",
      "provenance": [],
      "collapsed_sections": []
    },
    "kernelspec": {
      "name": "python3",
      "display_name": "Python 3"
    },
    "language_info": {
      "name": "python"
    }
  },
  "cells": [
    {
      "cell_type": "markdown",
      "metadata": {
        "id": "Ns9NSu_cMGj_"
      },
      "source": [
        "2. Faça uma função que calcule a hipotenusa. Os catetos são os dados de entrada e\n",
        "a hipotenusa é o dado de saída."
      ]
    },
    {
      "cell_type": "code",
      "metadata": {
        "colab": {
          "base_uri": "https://localhost:8080/"
        },
        "id": "o2ohYGJZMJ_-",
        "outputId": "d752c785-27cf-4e40-9166-044c6aedcd93"
      },
      "source": [
        "def hipotenusa(cateto1, cateto2):\n",
        "  hip = (cateto1**2 + cateto2**2)**(1/2)\n",
        "  return print(\"O tamanho da hipotenusa, dados \" + str(cateto1) + \" e \" + str(cateto2) + \" como catetos, é: \" + str(hip))\n",
        "hipotenusa(int(input(\"Insira o valor do primeiro cateto: \\n ─> \")), int(input(\"Insira o valor do segundo cateto: \\n ─> \")))"
      ],
      "execution_count": null,
      "outputs": [
        {
          "output_type": "stream",
          "text": [
            "Insira o valor do primeiro cateto: \n",
            " ─> 9\n",
            "Insira o valor do segundo cateto: \n",
            " ─> 12\n",
            "O tamanho da hipotenusa, dados 9 e 12 como catetos, é: 15.0\n"
          ],
          "name": "stdout"
        }
      ]
    },
    {
      "cell_type": "markdown",
      "metadata": {
        "id": "exIwBSo0PE81"
      },
      "source": [
        "6. Escreva uma função que recebe 2 números inteiros n1 e n2 como entrada e\n",
        "retorna a soma de todos os números inteiros contidos no intervalo [n1,n2]. Use\n",
        "esta função em um programa que lê n1 e n2 do usuário e imprime a soma."
      ]
    },
    {
      "cell_type": "code",
      "metadata": {
        "colab": {
          "base_uri": "https://localhost:8080/"
        },
        "id": "cRHHaIe0PH4O",
        "outputId": "68fd83b3-9d2c-4d09-d181-b0800ebf1fa6"
      },
      "source": [
        "def somaIntervalo(n1, n2):\n",
        "  if n2 < n1:\n",
        "    print(\"O segundo número deve obrigatoriamente ser maior ou igual ao primeiro!\")\n",
        "    return somaIntervalo(int(input(\"Insira o valor mínimo limitante do intervalo: \\n ─> \")), int(input(\"Insira o valor máximo limitante do intervalo: \\n ─> \")))\n",
        "  soma = 0\n",
        "  for numero in range(n1, n2+1):\n",
        "    soma += numero\n",
        "  return print(\"A soma, dados os intervalos \" + str(n1)+ \" e \" + str(n2) + \", é igual a \" + str(soma))\n",
        "somaIntervalo(int(input(\"Insira o valor mínimo limitante do intervalo: \\n ─> \")), int(input(\"Insira o valor máximo limitante do intervalo: \\n ─> \")))"
      ],
      "execution_count": null,
      "outputs": [
        {
          "output_type": "stream",
          "text": [
            "Insira o valor mínimo limitante do intervalo: \n",
            " ─> 1\n",
            "Insira o valor máximo limitante do intervalo: \n",
            " ─> 4\n",
            "A soma, dados os intervalos 1 e 4, é igual a 10\n"
          ],
          "name": "stdout"
        }
      ]
    },
    {
      "cell_type": "markdown",
      "metadata": {
        "id": "ntjpuwhK9K3A"
      },
      "source": [
        "8. Escreva uma função que receba um número natural e imprima os três primeiros\n",
        "caracteres do dia da semana correspondente ao número. Por exemplo, 7\n",
        "corresponde a “SAB”. O procedimento deve mostrar uma mensagem de erro caso\n",
        "o número recebido não corresponda a um dia da semana. Gere também um\n",
        "programa que utilize essa função, chamando-a, mas antes lendo um valor para\n",
        "passagem de parâmetro."
      ]
    },
    {
      "cell_type": "code",
      "metadata": {
        "colab": {
          "base_uri": "https://localhost:8080/"
        },
        "id": "4tqvhbjp9NvF",
        "outputId": "547f2ed3-d9f7-4df4-ea8e-41ebb47d4ecd"
      },
      "source": [
        "from random import randint\n",
        "\n",
        "def diaSemana(dia):\n",
        "  dias = [\"DOM\", \"SEG\", \"TER\", \"QUA\", \"QUI\", \"SEX\", \"SAB\"]\n",
        "  if dia > len(dias) or dia <= 0:\n",
        "    print(\"Digite um número válido! [1 a 7] \\n\")\n",
        "    return diaSemana(int(input(\"Insira o dia do mês e será retornado o dia na semana: [1 a 7] \\n ─> \")))\n",
        "  else:\n",
        "    return print(str(dias[dia-1])) \n",
        "\n",
        "diaSemana(int(input(\"Insira o dia do mês e será retornado o dia na semana: [1 a 7] \\n ─> \")))\n",
        "print(\"\\nCom o dia da semana decidido aleatóriamente:\")\n",
        "diaSemana(randint(1,7))"
      ],
      "execution_count": null,
      "outputs": [
        {
          "output_type": "stream",
          "text": [
            "Insira o dia do mês e será retornado o dia na semana: [1 a 7] \n",
            " ─> 0\n",
            "Digite um número válido! [1 a 7] \n",
            "\n",
            "Insira o dia do mês e será retornado o dia na semana: [1 a 7] \n",
            " ─> 5\n",
            "QUI\n",
            "\n",
            "Com o dia da semana decidido aleatóriamente:\n",
            "SEX\n"
          ],
          "name": "stdout"
        }
      ]
    },
    {
      "cell_type": "markdown",
      "metadata": {
        "id": "nWuXBVHd7N-0"
      },
      "source": [
        "9. Escreva uma função que receba dois números inteiros x e y. Essa função deve\n",
        "verificar se x é divisível por y. No caso positivo, a função deve retornar 1, caso\n",
        "contrário zero. Escreva também um programa para testar tal função."
      ]
    },
    {
      "cell_type": "code",
      "metadata": {
        "colab": {
          "base_uri": "https://localhost:8080/"
        },
        "id": "f04N9dMv7Oov",
        "outputId": "cb181d1b-9438-4eca-c4df-a3d7ff2d3583"
      },
      "source": [
        "def divisivel(x, y):\n",
        "  if x % y == 0:\n",
        "    return 1\n",
        "  else:\n",
        "    return 0\n",
        "\n",
        "print(divisivel(int(input(\"Insira o valor a ser dividido: \\n ─> \")), int(input(\"Insira o divisor: \\n ─> \"))))"
      ],
      "execution_count": null,
      "outputs": [
        {
          "output_type": "stream",
          "text": [
            "Insira o valor a ser dividido: \n",
            " ─> 21\n",
            "Insira o divisor: \n",
            " ─> 3\n",
            "1\n"
          ],
          "name": "stdout"
        }
      ]
    },
    {
      "cell_type": "markdown",
      "metadata": {
        "id": "QmtHHRcS1owX"
      },
      "source": [
        "10. Criar uma função que calcule e retorne o MAIOR entre dois valores recebidos como\n",
        "parâmetros. Um programa para testar tal função deve ser criado."
      ]
    },
    {
      "cell_type": "code",
      "metadata": {
        "colab": {
          "base_uri": "https://localhost:8080/"
        },
        "id": "K3z99fI71peF",
        "outputId": "7141e8f9-cf4e-40cf-f1b8-9e5a8af58401"
      },
      "source": [
        "def maiorNumero(numero1, numero2):\n",
        "  lista = []\n",
        "  lista.append(numero1)\n",
        "  lista.append(numero2)\n",
        "  lista.sort()\n",
        "  return print(\"O maior numero entre \" + str(numero1) + \" e \" + str(numero2) + \", \" + \"é \" + str(lista[1]))\n",
        "\n",
        "maiorNumero(int(input(\"Insira o primeiro número a ser comparado: \\n ─> \")),int(input(\"Insira o segundo número a ser comparado: \\n ─> \")))"
      ],
      "execution_count": null,
      "outputs": [
        {
          "output_type": "stream",
          "text": [
            "Insira o primeiro número a ser comparado: \n",
            " ─> 400\n",
            "Insira o segundo número a ser comparado: \n",
            " ─> 200\n",
            "O maior numero entre 400 e 200, é 400\n"
          ],
          "name": "stdout"
        }
      ]
    },
    {
      "cell_type": "markdown",
      "metadata": {
        "id": "dtj8yEqnyqFl"
      },
      "source": [
        "11) Crie uma função que realize a conversão de Polegadas (pol) para Centímetros\n",
        "(cm), onde pol é passado como parâmetro e cm é retornado. Sabe-se que 1\n",
        "polegada tem 2.54 centímetros. Crie também um programa para testar tal função."
      ]
    },
    {
      "cell_type": "code",
      "metadata": {
        "colab": {
          "base_uri": "https://localhost:8080/"
        },
        "id": "N39w73qisVxv",
        "outputId": "bdf8fbcb-4dfa-4446-9982-262852140948"
      },
      "source": [
        "def polegadasCentimetros(pol):\n",
        "  return print(str(pol) + \" polegadas são \" + str(pol * 2.54) + \" centìmetros\")\n",
        "polegadasCentimetros(int(input(\"Insira o valor em polegadas a ser convertido: \\n ─> \")))"
      ],
      "execution_count": null,
      "outputs": [
        {
          "output_type": "stream",
          "text": [
            "Insira o valor em polegadas a ser convertido: \n",
            " ─> 5\n",
            "5 polegadas são 12.7 centìmetros\n"
          ],
          "name": "stdout"
        }
      ]
    }
  ]
}