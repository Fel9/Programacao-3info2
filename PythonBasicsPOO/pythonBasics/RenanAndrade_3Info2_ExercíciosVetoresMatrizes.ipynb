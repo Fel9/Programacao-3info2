{
  "nbformat": 4,
  "nbformat_minor": 0,
  "metadata": {
    "colab": {
      "name": "RenanAndrade - 3Info2 - ExercíciosVetoresMatrizes.ipynb",
      "provenance": [],
      "collapsed_sections": []
    },
    "kernelspec": {
      "name": "python3",
      "display_name": "Python 3"
    },
    "language_info": {
      "name": "python"
    }
  },
  "cells": [
    {
      "cell_type": "markdown",
      "metadata": {
        "id": "LtXINeRQArRp"
      },
      "source": [
        "7) Escreva um algoritmo que leia um vetor de 200 valores numéricos reais e os imprima na\n",
        "ordem contrária em que foi lida."
      ]
    },
    {
      "cell_type": "code",
      "metadata": {
        "colab": {
          "base_uri": "https://localhost:8080/"
        },
        "id": "DzpYUlCoA9Ao",
        "outputId": "1f1b0c49-1057-4800-bf2a-525201cc77d0"
      },
      "source": [
        "from random import randint\n",
        "\n",
        "matriz = []\n",
        "menorLimite = int(\n",
        "    input(\n",
        "        \"Os valores da matriz com 200 linhas serão decididos aleatóriamente, porém é necessário um valor inteiro mínimo limitante: \\n ─> \"\n",
        "    )\n",
        ")\n",
        "maiorLimite = int(input(\"Digite o valor inteiro máximo limitante: \\n ─> \"))\n",
        "\n",
        "for i in range(200):\n",
        "    matriz.append(randint(menorLimite, maiorLimite))\n",
        "matrizInversa = matriz[::-1]\n",
        "print(\n",
        "    \"O inverso da matriz de 200 valore aleatórios, dado seus limites máximos e mínimos, é:\",\n",
        "    matrizInversa,\n",
        ")"
      ],
      "execution_count": null,
      "outputs": [
        {
          "output_type": "stream",
          "text": [
            "Os valores da matriz com 200 linhas serão decididos aleatóriamente, porém é necessário um valor inteiro mínimo limitante: \n",
            " ─> 10\n",
            "Digite o valor inteiro máximo limitante: \n",
            " ─> 500\n",
            "O inverso da matriz de 200 valore aleatórios, dado seus limites máximos e mínimos, é: [307, 259, 381, 358, 380, 394, 189, 206, 488, 139, 158, 484, 36, 340, 260, 403, 92, 460, 72, 71, 354, 95, 274, 122, 359, 117, 186, 243, 291, 319, 442, 332, 229, 47, 172, 416, 339, 429, 278, 122, 221, 415, 129, 29, 77, 442, 174, 441, 333, 95, 203, 330, 462, 93, 471, 31, 230, 382, 47, 239, 208, 165, 275, 41, 248, 93, 200, 81, 191, 395, 314, 415, 83, 237, 281, 46, 35, 217, 223, 280, 136, 394, 249, 264, 338, 375, 54, 334, 328, 177, 447, 344, 101, 23, 415, 230, 76, 351, 142, 110, 495, 330, 34, 339, 67, 101, 51, 362, 369, 136, 446, 197, 306, 316, 90, 36, 231, 46, 394, 325, 396, 55, 71, 371, 373, 96, 112, 32, 35, 390, 94, 259, 372, 315, 30, 188, 387, 112, 207, 320, 244, 442, 40, 422, 406, 112, 140, 423, 386, 184, 110, 457, 58, 145, 149, 252, 234, 460, 418, 128, 191, 425, 372, 58, 50, 374, 282, 217, 31, 20, 493, 193, 344, 253, 494, 199, 172, 220, 326, 329, 195, 250, 431, 403, 155, 113, 447, 189, 330, 182, 44, 412, 115, 491, 399, 72, 276, 387, 86, 112]\n"
          ],
          "name": "stdout"
        }
      ]
    },
    {
      "cell_type": "markdown",
      "metadata": {
        "id": "VEa_8yyX1gHt"
      },
      "source": [
        "10) Escreva um algoritmo que:\n",
        "\n",
        "a) leia 100 valores numéricos e os armazene numa variável composta unidimensional A;\n",
        "\n",
        "b) calcule e escreva:\n",
        "\n",
        "c) calcule e escreva quantos termos da série acima têm o numerador menor do que o\n",
        "denominador."
      ]
    },
    {
      "cell_type": "code",
      "metadata": {
        "id": "r4GbR3f2G3mN"
      },
      "source": [
        "from random import randint\n",
        "\n",
        "matriz = []\n",
        "menorLimite = int(\n",
        "    input(\n",
        "        \"Os valores da matriz com 100 linhas serão decididos aleatóriamente, porém é necessário um valor inteiro mínimo limitante: \\n ─> \"\n",
        "    )\n",
        ")\n",
        "maiorLimite = int(input(\"Digite o valor inteiro máximo limitante: \\n ─> \"))\n",
        "soma = 0\n",
        "numeradorMenor = 0\n",
        "for i in range(100):\n",
        "    matriz.append(randint(menorLimite, maiorLimite))\n",
        "    if i < matriz[i]:\n",
        "        numeradorMenor += 1\n",
        "    soma += i / matriz[i]\n",
        "print(\n",
        "    \"A soma dos valores é igual a: \" + str(round(soma, 2)) + \";\",\n",
        "    \"E a quantidade de numeradores menor que seu denominador é:\",\n",
        "    numeradorMenor,\n",
        ")"
      ],
      "execution_count": null,
      "outputs": []
    },
    {
      "cell_type": "markdown",
      "metadata": {
        "id": "S466MBBzC2Jq"
      },
      "source": [
        "14) Um armazém trabalha com 100 mercadorias diferentes identificadas pelos números inteiros de\n",
        "0 a 99. O dono do armazém anota a quantidade de cada mercadoria vendida durante o mês.\n",
        "Ele tem uma tabela mensal que indica para cada mercadoria o preço de venda. Escreva o\n",
        "algoritmo para calcular o faturamento mensal do armazém, isto é:\n",
        "\n",
        "As tabelas de preço e quantidade são fornecidas em dois vetores."
      ]
    },
    {
      "cell_type": "code",
      "metadata": {
        "colab": {
          "base_uri": "https://localhost:8080/"
        },
        "id": "sIteX2d1CGr5",
        "outputId": "5454db7f-90a1-4d8e-d5f1-82482ab4f513"
      },
      "source": [
        "from random import randint\n",
        "\n",
        "preço, produtos = [], []\n",
        "menorLimite = int(\n",
        "    input(\n",
        "        \"Os valores das matrizes preço e produto serão decididos aleatóriamente, porém é necessário um valor natural mínimo limitante: \\n ─> \"\n",
        "    )\n",
        ")\n",
        "maiorLimite = int(input(\"Digite o valor natural máximo limitante: \\n ─> \"))\n",
        "faturamento = 0\n",
        "for i in range(99):\n",
        "    preço.append(randint(menorLimite, maiorLimite))\n",
        "    produtos.append(randint(menorLimite, maiorLimite))\n",
        "    faturamento += preço[i] * produtos[i]\n",
        "print(\"O faturamento é de\",faturamento,\"reais, mensalmente.\")\n"
      ],
      "execution_count": null,
      "outputs": [
        {
          "output_type": "stream",
          "text": [
            "Os valores das matrizes preço e produto serão decididos aleatóriamente, porém é necessário um valor natural mínimo limitante: \n",
            " ─> 0\n",
            "Digite o valor natural máximo limitante: \n",
            " ─> 50\n",
            "O faturamento é de 63384 reais, mensalmente.\n"
          ],
          "name": "stdout"
        }
      ]
    },
    {
      "cell_type": "markdown",
      "metadata": {
        "id": "DzYe3qWpDH2P"
      },
      "source": [
        "15) Classificar um vetor numérico VET de 20 elementos em ordem crescente."
      ]
    },
    {
      "cell_type": "code",
      "metadata": {
        "colab": {
          "base_uri": "https://localhost:8080/"
        },
        "id": "5IkXAYm8DIiQ",
        "outputId": "b59a490f-4fa4-4534-cd60-3b29de8a5f6d"
      },
      "source": [
        "from random import randint\n",
        "\n",
        "vet = []\n",
        "menorLimite = int(\n",
        "    input(\n",
        "        \"Os valores da matriz de 20 elementos serão decididos aleatóriamente, porém é necessário um valor inteiro mínimo limitante: \\n ─> \"\n",
        "    )\n",
        ")\n",
        "maiorLimite = int(input(\"Digite o valor inteiro máximo limitante: \\n ─> \"))\n",
        "for i in range(20):\n",
        "    vet.append(randint(menorLimite, maiorLimite))\n",
        "vet.sort();\n",
        "print(\"A matriz inversa é\", vet);"
      ],
      "execution_count": null,
      "outputs": [
        {
          "output_type": "stream",
          "text": [
            "Os valores da matriz de 20 elementos serão decididos aleatóriamente, porém é necessário um valor inteiro mínimo limitante: \n",
            " ─> -50\n",
            "Digite o valor inteiro máximo limitante: \n",
            " ─> 200\n",
            "A matriz inversa é [9, 14, 29, 40, 41, 43, 69, 76, 77, 91, 115, 132, 132, 138, 148, 169, 182, 185, 190, 195]\n"
          ],
          "name": "stdout"
        }
      ]
    },
    {
      "cell_type": "markdown",
      "metadata": {
        "id": "zaOIhUclb8Ie"
      },
      "source": [
        "18) Faça um algoritmo qualquer que leia uma matriz A de 15 linhas por 25 colunas e imprima o\n",
        "seu conteúdo."
      ]
    },
    {
      "cell_type": "code",
      "metadata": {
        "id": "ODfr0yOcb8m6"
      },
      "source": [
        "from random import randint\n",
        "\n",
        "matrizA = []\n",
        "menorLimite = int(\n",
        "    input(\n",
        "        \"Os valores das matrizes 15x25 serão decididos aleatóriamente, porém é necessário um valor inteiro mínimo limitante: \\n ─> \"\n",
        "    )\n",
        ")\n",
        "maiorLimite = int(input(\"Digite o valor inteiro máximo limitante: \\n ─> \"))\n",
        "\n",
        "\n",
        "def linhasRandomicas():\n",
        "    linhas = []\n",
        "    for i in range(25):\n",
        "        linhas.append(randint(menorLimite, maiorLimite))\n",
        "    return linhas\n",
        "\n",
        "\n",
        "print(\"A matriz 15x25 randomizada é:\")\n",
        "for linha in range(15):\n",
        "    matrizA.append(linhasRandomicas())\n",
        "    print(matrizA[linha])\n"
      ],
      "execution_count": null,
      "outputs": []
    },
    {
      "cell_type": "markdown",
      "metadata": {
        "id": "FCd-dYlLQmKp"
      },
      "source": [
        "21) Elabore um algoritmo que leia uma matriz 4 x 4 e escreva a matriz resultante após ter multiplicado os elementos da diagonal principal por uma constante k."
      ]
    },
    {
      "cell_type": "code",
      "metadata": {
        "id": "FGC1fQhlQgkL"
      },
      "source": [
        "from random import randint\n",
        "\n",
        "matriz = []\n",
        "menorLimite = int(\n",
        "    input(\n",
        "        \"Os valores da matriz 4x4 serão decididos aleatóriamente, porém é necessário um valor inteiro mínimo limitante: \\n ─> \"\n",
        "    )\n",
        ")\n",
        "maiorLimite = int(input(\"Digite o valor inteiro máximo limitante: \\n ─> \"))\n",
        "k = randint(menorLimite, maiorLimite)\n",
        "\n",
        "\n",
        "def linhasRandomicas():\n",
        "    linhas = []\n",
        "    for i in range(4):\n",
        "        linhas.append(randint(menorLimite, maiorLimite))\n",
        "    return linhas\n",
        "\n",
        "\n",
        "print(\"A matriz obtida ao multiplicar cada elemento da diagonal principal por k é:\")\n",
        "for j in range(4):\n",
        "    matriz.append(linhasRandomicas())\n",
        "    matriz[j][j] *= k\n",
        "    print(matriz[j])\n"
      ],
      "execution_count": null,
      "outputs": []
    },
    {
      "cell_type": "markdown",
      "metadata": {
        "id": "KV2gbj4fqW9x"
      },
      "source": [
        "22) Escreva um algoritmo que:\n",
        "\n",
        "a) leia uma matriz quadrada 20 x 20 de elementos reais;\n",
        "\n",
        "b) divida cada elemento de uma linha da matriz pelo elemento da diagonal principal dessa linha;\n",
        "\n",
        "c) imprima a matriz assim modificada;"
      ]
    },
    {
      "cell_type": "code",
      "metadata": {
        "id": "hH_exyo6r6j3",
        "colab": {
          "base_uri": "https://localhost:8080/"
        },
        "outputId": "9245d7f8-4075-4fa3-b058-48c292e7d294"
      },
      "source": [
        "from random import randint\n",
        "\n",
        "matriz = []\n",
        "menorLimite = int(\n",
        "    input(\n",
        "        \"Os valores da matriz 20x20 serão decididos aleatóriamente, porém é necessário um valor inteiro mínimo limitante: \\n ─> \"\n",
        "    )\n",
        ")\n",
        "maiorLimite = int(input(\"Digite o valor inteiro máximo limitante: \\n ─> \"))\n",
        "\n",
        "\n",
        "def linhasRandomicas():\n",
        "    linhas = []\n",
        "    for i in range(20):\n",
        "        linhas.append(randint(menorLimite, maiorLimite))\n",
        "    return linhas\n",
        "\n",
        "\n",
        "for j in range(20):\n",
        "    matriz.append(linhasRandomicas())\n",
        "\n",
        "divisaoBidimensional = []\n",
        "linha = 0\n",
        "\n",
        "\n",
        "def divisaoMatriz():\n",
        "    divisao = []\n",
        "    for i in range(20):\n",
        "        divisao.append(round(matriz[linha][i] / matriz[linha][linha], 1))\n",
        "    return divisao\n",
        "\n",
        "\n",
        "print(\n",
        "    \"A matriz obtida por dividir cada elemento da linha, pelo elemento da diagonal principal dessa linha é:\",\n",
        ")\n",
        "\n",
        "for i in range(20):\n",
        "    divisaoBidimensional.append(divisaoMatriz())\n",
        "    print(divisaoBidimensional[i])\n",
        "    linha += 1\n",
        "\n"
      ],
      "execution_count": null,
      "outputs": [
        {
          "output_type": "stream",
          "text": [
            "Os valores da matriz 20x20 serão decididos aleatóriamente, porém é necessário um valor inteiro mínimo limitante: \n",
            " ─> 1\n",
            "Digite o valor inteiro máximo limitante: \n",
            " ─> 50000\n",
            "A matriz obtida por dividir cada elemento da linha, pelo elemento da diagonal principal dessa linha é:\n",
            "[1.0, 40.7, 48.3, 35.8, 12.1, 6.6, 31.2, 35.0, 22.4, 15.7, 34.5, 47.4, 45.4, 6.5, 34.6, 21.0, 28.6, 0.5, 34.3, 18.9]\n",
            "[80.8, 1.0, 305.3, 82.1, 19.0, 341.2, 192.4, 296.9, 61.6, 15.5, 246.2, 240.8, 168.3, 251.4, 219.4, 205.6, 133.2, 187.6, 99.9, 252.2]\n",
            "[2.3, 2.1, 1.0, 2.1, 0.9, 2.2, 2.3, 1.6, 2.1, 0.7, 1.7, 0.8, 0.3, 2.2, 0.5, 0.3, 0.9, 2.3, 2.3, 2.0]\n",
            "[14.2, 19.7, 2.0, 1.0, 27.2, 1.5, 19.1, 33.2, 30.5, 38.0, 16.3, 33.7, 7.3, 26.5, 39.5, 11.5, 34.6, 39.2, 18.3, 15.0]\n",
            "[1.8, 1.5, 3.5, 3.1, 1.0, 3.5, 0.0, 3.5, 1.6, 3.7, 2.5, 0.0, 0.4, 3.6, 1.6, 1.6, 0.4, 2.0, 0.2, 1.1]\n",
            "[4.6, 0.6, 0.9, 1.5, 4.1, 1.0, 5.3, 2.5, 2.9, 3.8, 0.2, 5.3, 4.7, 2.2, 1.8, 4.9, 2.7, 2.8, 4.9, 0.1]\n",
            "[0.6, 0.3, 0.9, 0.8, 0.5, 0.6, 1.0, 1.1, 1.0, 0.9, 0.3, 0.5, 1.0, 0.5, 0.2, 0.5, 0.2, 0.6, 0.4, 0.9]\n",
            "[0.0, 1.0, 0.6, 1.2, 0.8, 1.4, 1.1, 1.0, 0.6, 0.3, 0.7, 1.2, 0.0, 1.3, 1.5, 0.4, 0.4, 0.6, 0.6, 0.9]\n",
            "[1.8, 1.4, 4.5, 2.4, 3.7, 0.4, 1.7, 3.9, 1.0, 2.4, 2.8, 1.0, 1.7, 0.8, 2.5, 1.0, 2.7, 1.7, 4.4, 2.2]\n",
            "[4.0, 4.8, 1.3, 1.9, 2.8, 4.0, 3.5, 0.6, 4.8, 1.0, 0.3, 0.1, 2.2, 1.4, 2.8, 2.8, 3.7, 1.7, 5.8, 3.9]\n",
            "[1.2, 1.5, 1.4, 0.9, 0.6, 0.5, 0.7, 1.3, 0.1, 0.4, 1.0, 0.3, 1.2, 1.6, 1.1, 0.6, 1.5, 0.8, 0.5, 0.9]\n",
            "[0.5, 0.7, 0.9, 0.9, 0.6, 0.9, 0.4, 0.8, 0.9, 0.2, 0.2, 1.0, 1.1, 0.8, 0.5, 0.4, 0.3, 0.2, 1.2, 1.1]\n",
            "[0.8, 1.1, 0.1, 0.4, 0.3, 0.7, 0.9, 0.1, 0.6, 0.2, 0.9, 1.2, 1.0, 1.2, 0.2, 0.5, 0.5, 0.7, 0.4, 0.5]\n",
            "[1.9, 0.5, 0.7, 1.6, 0.2, 0.4, 1.2, 1.8, 0.9, 0.2, 0.7, 1.1, 1.2, 1.0, 0.6, 1.9, 1.4, 1.2, 1.2, 1.0]\n",
            "[0.9, 0.3, 0.9, 0.4, 1.2, 0.8, 0.4, 1.0, 1.0, 1.2, 1.0, 0.0, 1.2, 0.8, 1.0, 0.8, 0.9, 0.0, 0.9, 0.7]\n",
            "[0.5, 1.0, 0.7, 0.6, 1.6, 1.6, 0.5, 1.8, 0.3, 1.1, 0.5, 1.6, 0.3, 0.5, 1.8, 1.0, 0.5, 1.6, 1.0, 1.8]\n",
            "[1.7, 1.9, 1.4, 2.7, 1.0, 0.3, 1.9, 2.5, 0.5, 0.8, 0.6, 2.2, 0.4, 2.9, 2.8, 0.5, 1.0, 2.5, 1.8, 2.4]\n",
            "[1.7, 0.7, 1.6, 1.4, 1.1, 2.8, 0.7, 0.5, 1.3, 3.0, 1.5, 0.3, 0.7, 0.3, 0.9, 2.4, 2.1, 1.0, 2.7, 1.8]\n",
            "[0.2, 0.1, 0.1, 0.8, 0.1, 0.4, 0.4, 0.8, 0.8, 0.5, 1.1, 1.1, 0.4, 0.7, 0.7, 0.3, 0.4, 0.8, 1.0, 0.8]\n",
            "[0.5, 0.0, 1.0, 0.5, 0.0, 0.9, 0.9, 0.2, 1.3, 0.7, 0.1, 0.6, 0.2, 0.2, 0.3, 0.0, 1.2, 0.6, 1.1, 1.0]\n"
          ],
          "name": "stdout"
        }
      ]
    },
    {
      "cell_type": "markdown",
      "metadata": {
        "id": "R9I19RXZtK5D"
      },
      "source": [
        "23) Faça um algoritmo que:\n",
        "\n",
        "a) leia uma matriz 10 x 10 de elementos inteiros;\n",
        "\n",
        "b) imprima essa matriz;\n",
        "\n",
        "c) calcule e imprima a soma dos elementos situados abaixo da diagonal principal da matriz,\n",
        "incluindo os elementos da própria diagonal principal."
      ]
    },
    {
      "cell_type": "code",
      "metadata": {
        "colab": {
          "base_uri": "https://localhost:8080/"
        },
        "id": "xKVt3eD6tJVi",
        "outputId": "ad0734b5-734e-49c9-f583-566c4dd639b1"
      },
      "source": [
        "from random import randint\n",
        "\n",
        "matriz = []\n",
        "menorLimite = int(\n",
        "    input(\n",
        "        \"Os valores da matriz 10x10 serão decididos aleatóriamente, porém é necessário um valor inteiro mínimo limitante: \\n ─> \"\n",
        "    )\n",
        ")\n",
        "maiorLimite = int(input(\"Digite o valor inteiro máximo limitante: \\n ─> \"))\n",
        "\n",
        "\n",
        "def linhasRandomicas():\n",
        "    linhas = []\n",
        "    for i in range(10):\n",
        "        linhas.append(randint(menorLimite, maiorLimite))\n",
        "    return linhas\n",
        "\n",
        "\n",
        "def somaTrianguloInferior(linha):\n",
        "    total = 0\n",
        "    if linha == 0:\n",
        "        pass\n",
        "    else:\n",
        "        for posiçao in range(linha):\n",
        "            total += matriz[linha][posiçao]\n",
        "    return total\n",
        "\n",
        "\n",
        "soma = 0\n",
        "for linha in range(10):\n",
        "    matriz.append(linhasRandomicas())\n",
        "    soma += somaTrianguloInferior(linha)\n",
        "\n",
        "print(\"A soma do triangulo inferior à diagonal principal é:\", soma)\n"
      ],
      "execution_count": null,
      "outputs": [
        {
          "output_type": "stream",
          "text": [
            "Os valores da matriz 20x20 serão decididos aleatóriamente, porém é necessário um valor inteiro mínimo limitante: \n",
            " ─> 1\n",
            "Digite o valor inteiro máximo limitante: \n",
            " ─> 1\n",
            "A soma do triangulo inferior à diagonal principal é: 45\n"
          ],
          "name": "stdout"
        }
      ]
    },
    {
      "cell_type": "markdown",
      "metadata": {
        "id": "1mNm50i_y2Oy"
      },
      "source": [
        "24) Escreva um algoritmo que leia duas matrizes reais de dimensão 3 x 5, calcule e imprima a sua\n",
        "soma."
      ]
    },
    {
      "cell_type": "code",
      "metadata": {
        "colab": {
          "base_uri": "https://localhost:8080/"
        },
        "id": "MloyY1sPy3kK",
        "outputId": "51d0bba6-4113-43eb-f2ed-395e7eba0424"
      },
      "source": [
        "from random import randint\n",
        "\n",
        "matrizA, matrizB, matrizC = [], [], []\n",
        "menorLimite = int(\n",
        "    input(\n",
        "        \"Os valores das matrizes 3x5 serão decididos aleatóriamente, porém é necessário um valor inteiro mínimo limitante: \\n ─> \"\n",
        "    )\n",
        ")\n",
        "maiorLimite = int(input(\"Digite o valor inteiro máximo limitante: \\n ─> \"))\n",
        "\n",
        "\n",
        "def linhasRandomicas():\n",
        "    linhas = []\n",
        "    for i in range(5):\n",
        "        linhas.append(randint(menorLimite, maiorLimite))\n",
        "    return linhas\n",
        "\n",
        "\n",
        "def somaMatrizes(linha):\n",
        "    soma = 0\n",
        "    somaLinha = []\n",
        "    for posiçao in range(5):\n",
        "        soma = matrizA[linha][posiçao] + matrizB[linha][posiçao]\n",
        "        somaLinha.append(soma)\n",
        "    return somaLinha\n",
        "\n",
        "print(\"As matrizes A e B somadas equivalem a:\")\n",
        "for linha in range(3):\n",
        "    matrizA.append(linhasRandomicas())\n",
        "    matrizB.append(linhasRandomicas())\n",
        "    matrizC.append(somaMatrizes(linha))\n",
        "    print(matrizC[linha])\n"
      ],
      "execution_count": null,
      "outputs": [
        {
          "output_type": "stream",
          "text": [
            "Os valores das matrizes 3x5 serão decididos aleatóriamente, porém é necessário um valor inteiro mínimo limitante: \n",
            " ─> 0\n",
            "Digite o valor inteiro máximo limitante: \n",
            " ─> 5000\n",
            "As matrizes A e B somadas equivalem a:\n",
            "[7007, 4849, 8631, 5956, 4311]\n",
            "[1732, 3290, 4269, 6727, 8700]\n",
            "[2480, 4995, 1768, 5802, 6941]\n"
          ],
          "name": "stdout"
        }
      ]
    },
    {
      "cell_type": "markdown",
      "metadata": {
        "id": "HKKniE_2ORMb"
      },
      "source": [
        "25) Dada uma matriz MAT de 4 x 5 elementos, faça um algoritmo para somar os elementos de\n",
        "cada linha gerando o vetor SOMALINHA. Em seguida, somar os elementos do vetor SOMALINHA\n",
        "na variável TOTAL que deve ser impressa no final."
      ]
    },
    {
      "cell_type": "code",
      "metadata": {
        "id": "X7EAFj4XOT9T"
      },
      "source": [
        "from random import randint\n",
        "\n",
        "matrizA, matrizB = [], []\n",
        "menorLimite = int(\n",
        "    input(\n",
        "        \"Os valores das matrizes 3x5 serão decididos aleatóriamente, porém é necessário um valor inteiro mínimo limitante: \\n ─> \"\n",
        "    )\n",
        ")\n",
        "maiorLimite = int(input(\"Digite o valor inteiro máximo limitante: \\n ─> \"))\n",
        "\n",
        "\n",
        "def linhasRandomicas():\n",
        "    somaLinha = []\n",
        "    soma = 0\n",
        "    for i in range(5):\n",
        "        soma += randint(menorLimite, maiorLimite)\n",
        "    somaLinha.append(soma)\n",
        "    return somaLinha\n",
        "\n",
        "\n",
        "total = 0\n",
        "print(\n",
        "    \"O total ─ após somar as linhas de uma matriz, e da resultante, sua única coluna ─, é:\"\n",
        ")\n",
        "for linha in range(4):\n",
        "    matrizA.append(linhasRandomicas())\n",
        "    total += matrizA[linha][0]\n",
        "print(total)\n"
      ],
      "execution_count": null,
      "outputs": []
    }
  ]
}