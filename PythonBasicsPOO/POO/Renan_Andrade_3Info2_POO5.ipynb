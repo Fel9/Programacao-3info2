{
  "nbformat": 4,
  "nbformat_minor": 0,
  "metadata": {
    "colab": {
      "name": "Renan Andrade - 3Info2 - POO5.ipynb",
      "provenance": []
    },
    "kernelspec": {
      "name": "python3",
      "display_name": "Python 3"
    },
    "language_info": {
      "name": "python"
    }
  },
  "cells": [
    {
      "cell_type": "markdown",
      "metadata": {
        "id": "wKvxSR7nAdqA"
      },
      "source": [
        "1. Acrescente à classe Usuario um método construtor para definir um valor para a propriedade\n",
        "primeiroNome assim que o objeto for criado.\n",
        "2. Acrescente ao construtor a capacidade de definir o valor da propriedade ultimoNome, bem como a\n",
        "propriedade primeiroNome.\n",
        "3. Adicione à classe Usuario um método público chamado getNomeCompleto() que retorna o\n",
        "nome completo do usuário.\n",
        "4. Crie um novo objeto, usuario1, e passe para o construtor os valores do primeiro e último nome. O\n",
        "primeiro nome é \"Johnny\" e o sobrenome é \"Bravo\" (você pode escolher sua combinação preferida\n",
        "de primeiro e último nome).\n",
        "5. Obtenha o nome completo e imprima-o na tela."
      ]
    },
    {
      "cell_type": "code",
      "metadata": {
        "colab": {
          "base_uri": "https://localhost:8080/"
        },
        "id": "5y66EeoL6CIa",
        "outputId": "214503a5-6314-4df1-c8af-747818b39cea"
      },
      "source": [
        "class Usuario():\n",
        "  __primeiroNome = \"\"\n",
        "  __ultimoNome = \"\"\n",
        "\n",
        "  def __init__(self, primeiroNome, ultimoNome):\n",
        "    self.__primeiroNome = primeiroNome\n",
        "    self.__ultimoNome = ultimoNome\n",
        "  \n",
        "  def getNomeCompleto(self):\n",
        "    return f\"O nome completo é: {self.__primeiroNome} {self.__ultimoNome}\"\n",
        "\n",
        "usuario1 = Usuario(\"Johnny\", \"Bravo\")\n",
        "print(usuario1.getNomeCompleto())\n"
      ],
      "execution_count": 30,
      "outputs": [
        {
          "output_type": "stream",
          "text": [
            "O nome completo é: Johnny Bravo\n"
          ],
          "name": "stdout"
        }
      ]
    }
  ]
}