{
  "nbformat": 4,
  "nbformat_minor": 0,
  "metadata": {
    "colab": {
      "name": "RenanAndrade - 3Info2 - POO3.ipynb",
      "provenance": [],
      "collapsed_sections": []
    },
    "kernelspec": {
      "name": "python3",
      "display_name": "Python 3"
    },
    "language_info": {
      "name": "python"
    }
  },
  "cells": [
    {
      "cell_type": "markdown",
      "metadata": {
        "id": "uqEuMJfc7Q9Z"
      },
      "source": [
        "Vamos acrescentar 2 métodos para representar as funcionalidades de registro e e-mail na classe\n",
        "Usuario. Esses métodos imprimem (print) uma string como espaço reservado para sua finalidade\n",
        "real. A classe Usuario que vamos usar para este exercício está abaixo. O método hello()\n",
        "imprime o primeiro nome do usuário."
      ]
    },
    {
      "cell_type": "code",
      "metadata": {
        "id": "DHrWEfiX7hGQ",
        "colab": {
          "base_uri": "https://localhost:8080/"
        },
        "outputId": "c33fc870-2588-4aa7-fe9c-cfb81dc53719"
      },
      "source": [
        "class Usuario:\n",
        "    # Propriedade\n",
        "    primeiroNome = \"\"\n",
        "    # Metodo que diz Olá ao usuário primeiroNome.\n",
        "    def hello(self):\n",
        "        print(\"Olá, \", self.primeiroNome)\n",
        "        return self\n",
        "\n",
        "    # Adicione um método chamado registrar() à classe. Ele deve imprimir a string\n",
        "    # “>> registrado”.\n",
        "\n",
        "    # Adicione um método chamado mail() à classe. Ele deve imprimir a string\n",
        "    # \">> e-mail enviado\".\n",
        "    \n",
        "    # Adicione return self ao método hello() para que ele possa ser encadeado em qualquer outro\n",
        "    # método na classe.\n",
        "\n",
        "    # Adicione return self ao método registrar() para que ele também possa ser encadeado.\n",
        "\n",
        "    def registrar(self):\n",
        "        print(\">> registrado\")\n",
        "        return self\n",
        "    \n",
        "    def mail(self):\n",
        "        print(\">> email enviado\")\n",
        "\n",
        "\n",
        "\n",
        "# Crie um objeto chamado usuario1 com o primeiro nome de \"Jane\".\n",
        "# Para este objeto, encadeie os métodos na seguinte ordem: hello.registrar.mail\n",
        "\n",
        "usuario1 = Usuario()\n",
        "usuario1.primeiroNome = \"Jane\"\n",
        "usuario1.hello().registrar().mail()\n"
      ],
      "execution_count": null,
      "outputs": [
        {
          "output_type": "stream",
          "text": [
            "Olá,  Jane\n",
            ">> registrado\n",
            ">> email enviado\n"
          ],
          "name": "stdout"
        },
        {
          "output_type": "execute_result",
          "data": {
            "text/plain": [
              "<__main__.Usuario at 0x7f8e23becc90>"
            ]
          },
          "metadata": {
            "tags": []
          },
          "execution_count": 6
        }
      ]
    }
  ]
}