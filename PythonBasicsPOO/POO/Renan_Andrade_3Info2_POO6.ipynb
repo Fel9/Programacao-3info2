{
  "nbformat": 4,
  "nbformat_minor": 0,
  "metadata": {
    "colab": {
      "name": "Renan Andrade - 3Info2 - POO6.ipynb",
      "provenance": [],
      "collapsed_sections": []
    },
    "kernelspec": {
      "name": "python3",
      "display_name": "Python 3"
    },
    "language_info": {
      "name": "python"
    }
  },
  "cells": [
    {
      "cell_type": "markdown",
      "metadata": {
        "id": "jmfOPwkcwwl8"
      },
      "source": [
        "\n",
        "Aprendemos sobre três modificadores de controle de acesso (public, private e protected) que usamos para permitir e/ou restringir o acesso ao código. Na tabela abaixo, usaremos \"ü\" para marcar que o código pode ser acessado a partir de um certo nível, e \"û\" se não puder ser acessado. Preencha a tabela com os valores corretos. Por exemplo, o código público (public) pode ser acessado de dentro da classe, do código dentro das classes filhas (i.e. descendentes) e do escopo global, enquanto o código privado (private) não pode ser acessado a partir do escopo global (*).\n",
        "\n",
        "![modificadores.png](data:image/png;base64,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)\n",
        "\n",
        "(*) O escopo global significa fora das classes. Exercício de codificação No exemplo a seguir, criaremos uma classe chamada Admin, que é uma classe filha da classe Usuario.\n",
        "\n",
        "Exercício de codificação\n",
        "No exemplo a seguir, criaremos uma classe chamada Admin, que é uma classe filha da classe Usuario."
      ]
    },
    {
      "cell_type": "markdown",
      "metadata": {
        "id": "T27BSHlJBHBK"
      },
      "source": [
        "1. Crie uma classe chamada Usuario.\n",
        "\n",
        "2. Adicione à classe acima uma propriedade privada com o nome nomeUsuario.\n",
        "\n",
        "3. Crie um método setter que possa definir o valor do nomeUsuario.\n",
        "\n",
        "4. Crie uma classe Admin que herde a classe Usuario.\n",
        "\n",
        "5. Agora, vamos acrescentar à classe Admin algum código. Primeiro, adicione um método público\n",
        "chamado de escrevaNome() e faça com que ele retorne a string: \"Admin\".\n",
        "\n",
        "6. Adicione à classe Admin outro método público, digaOla(), que retorne a string \"Olá Admin,\n",
        "XXX\" onde XXX é o nome do usuário (nomeUsuario).\n",
        "\n",
        "7. Crie um objeto chamado admin1 fora da classe Admin. Defina seu nome para \"Baltazar\" e diga\n",
        "olá ao usuário. Você vê algum problema?\n",
        "\n",
        "8. Qual é a causa do problema?\n",
        "\n",
        "9. Altere o código para corrigir o problema.\n",
        "\n",
        "10. Tente escrever a solução com um método getter dentro da classe mãe que pode ser usado a partir da\n",
        "classe filha."
      ]
    },
    {
      "cell_type": "code",
      "metadata": {
        "id": "gmrsenBcCbLZ",
        "colab": {
          "base_uri": "https://localhost:8080/",
          "height": 340
        },
        "outputId": "9e0cf8cc-2600-4853-893a-679a92825bb0"
      },
      "source": [
        "class Usuario: # 1, criar a classe\n",
        "    __nomeUsuario = \"\" # 2, propriedade privada.     \n",
        "    # 8, sendo uma propriedade privada\n",
        "    # a variável torna-se inacessível pela filha \n",
        "\n",
        "    def nomeUsuario(self, nome): # 3, método setter\n",
        "        self.__nomeUsuario = nome\n",
        "\n",
        "class Admin(Usuario): # 4, criação e herança \n",
        "    def escrevaNome(self): # 5, método adicionado\n",
        "        return \"Admin\"\n",
        "\n",
        "    def digaOla(self): # 6, outro método adicionado\n",
        "        return f\"Olá {self.escrevaNome()}, {self.__nomeUsuario()}\" \n",
        "        # 8, a propriedade privada __nomeUsuario da mãe é inacessível pela filha \n",
        "\n",
        "\n",
        "admin1 = Admin() # 7, criação do objeto\n",
        "admin1.nomeUsuario(\"Baltazar\") # 7, atribuição do nome ao novo objeto. Há um problema\n",
        "admin1.digaOla()"
      ],
      "execution_count": 7,
      "outputs": [
        {
          "output_type": "error",
          "ename": "AttributeError",
          "evalue": "ignored",
          "traceback": [
            "\u001b[0;31m---------------------------------------------------------------------------\u001b[0m",
            "\u001b[0;31mAttributeError\u001b[0m                            Traceback (most recent call last)",
            "\u001b[0;32m<ipython-input-7-26b3eddb93e9>\u001b[0m in \u001b[0;36m<module>\u001b[0;34m()\u001b[0m\n\u001b[1;32m     20\u001b[0m \u001b[0madmin1\u001b[0m \u001b[0;34m=\u001b[0m \u001b[0mAdmin\u001b[0m\u001b[0;34m(\u001b[0m\u001b[0;34m)\u001b[0m \u001b[0;31m# 7, criação do objeto\u001b[0m\u001b[0;34m\u001b[0m\u001b[0;34m\u001b[0m\u001b[0m\n\u001b[1;32m     21\u001b[0m \u001b[0madmin1\u001b[0m\u001b[0;34m.\u001b[0m\u001b[0mnomeUsuario\u001b[0m\u001b[0;34m(\u001b[0m\u001b[0;34m\"Baltazar\"\u001b[0m\u001b[0;34m)\u001b[0m \u001b[0;31m# 7, atribuição do nome ao novo objeto. Sim, há um problema\u001b[0m\u001b[0;34m\u001b[0m\u001b[0;34m\u001b[0m\u001b[0m\n\u001b[0;32m---> 22\u001b[0;31m \u001b[0madmin1\u001b[0m\u001b[0;34m.\u001b[0m\u001b[0mdigaOla\u001b[0m\u001b[0;34m(\u001b[0m\u001b[0;34m)\u001b[0m\u001b[0;34m\u001b[0m\u001b[0;34m\u001b[0m\u001b[0m\n\u001b[0m",
            "\u001b[0;32m<ipython-input-7-26b3eddb93e9>\u001b[0m in \u001b[0;36mdigaOla\u001b[0;34m(self)\u001b[0m\n\u001b[1;32m     15\u001b[0m \u001b[0;34m\u001b[0m\u001b[0m\n\u001b[1;32m     16\u001b[0m     \u001b[0;32mdef\u001b[0m \u001b[0mdigaOla\u001b[0m\u001b[0;34m(\u001b[0m\u001b[0mself\u001b[0m\u001b[0;34m)\u001b[0m\u001b[0;34m:\u001b[0m \u001b[0;31m# 6, outro método adicionado\u001b[0m\u001b[0;34m\u001b[0m\u001b[0;34m\u001b[0m\u001b[0m\n\u001b[0;32m---> 17\u001b[0;31m         \u001b[0;32mreturn\u001b[0m \u001b[0;34mf\"Olá {self.escrevaNome()}, {self.__nomeUsuario()}\"\u001b[0m\u001b[0;34m\u001b[0m\u001b[0;34m\u001b[0m\u001b[0m\n\u001b[0m\u001b[1;32m     18\u001b[0m \u001b[0;34m\u001b[0m\u001b[0m\n\u001b[1;32m     19\u001b[0m \u001b[0;34m\u001b[0m\u001b[0m\n",
            "\u001b[0;31mAttributeError\u001b[0m: 'Admin' object has no attribute '_Admin__nomeUsuario'"
          ]
        }
      ]
    },
    {
      "cell_type": "code",
      "metadata": {
        "colab": {
          "base_uri": "https://localhost:8080/",
          "height": 34
        },
        "id": "mg4d4h_JFM_B",
        "outputId": "fceae90c-a7c4-41a7-d23f-957cc3359841"
      },
      "source": [
        "class Usuario:\n",
        "    def nomeUsuario(self, nome): \n",
        "        self._nomeUsuario = nome # 9, a solução é alterar para 'protected' o\n",
        "                                 # modo da propriedade\n",
        "\n",
        "    def pegarNome(self): # 10, método 'getter'\n",
        "        return self._nomeUsuario\n",
        "\n",
        "class Admin(Usuario):  \n",
        "    def escrevaNome(self):\n",
        "        return \"Admin\"\n",
        "\n",
        "    def digaOla(self):\n",
        "        return f\"Olá {self.escrevaNome()}, {self.pegarNome()}\" # 10, utilizando\n",
        "                                                               # o 'getter'\n",
        "\n",
        "admin1 = Admin() \n",
        "admin1.nomeUsuario(\"Baltazar\")\n",
        "admin1.digaOla()"
      ],
      "execution_count": 10,
      "outputs": [
        {
          "output_type": "execute_result",
          "data": {
            "application/vnd.google.colaboratory.intrinsic+json": {
              "type": "string"
            },
            "text/plain": [
              "'Olá Admin, Baltazar'"
            ]
          },
          "metadata": {
            "tags": []
          },
          "execution_count": 10
        }
      ]
    }
  ]
}