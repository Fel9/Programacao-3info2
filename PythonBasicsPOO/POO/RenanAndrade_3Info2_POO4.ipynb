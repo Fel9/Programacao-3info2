{
  "nbformat": 4,
  "nbformat_minor": 0,
  "metadata": {
    "colab": {
      "name": "RenanAndrade - 3Info2 - POO4.ipynb",
      "provenance": []
    },
    "kernelspec": {
      "name": "python3",
      "display_name": "Python 3"
    },
    "language_info": {
      "name": "python"
    }
  },
  "cells": [
    {
      "cell_type": "markdown",
      "metadata": {
        "id": "S-PPf4Z3As_w"
      },
      "source": [
        "Vimos como e quando usar os modificadores de acesso public e private. Embora o código público\n",
        "possa ser abordado de fora da classe, o código privado pode ser acessado somente dentro da classe.\n",
        "1. Nós usamos o modificador de acesso private a fim de:\n",
        "\n",
        "a) Limitar o acesso a uma classe\n",
        "\n",
        "b) Limitar o acesso às propriedades\n",
        "\n",
        "c) Limitar o acesso aos métodos\n",
        "\n",
        "d) B e C estão corretas"
      ]
    },
    {
      "cell_type": "markdown",
      "metadata": {
        "id": "louwk4n9A0ZY"
      },
      "source": [
        "d) B e C estão corretas"
      ]
    },
    {
      "cell_type": "markdown",
      "metadata": {
        "id": "fBl82cUjBFZV"
      },
      "source": [
        "Exercício de codificação\n",
        "Vamos voltar para a classe Usuario que desenvolvemos nas atividades anteriores. Agora vamos definir o\n",
        "primeiroNome do usuário como uma propriedade privada (private).\n",
        "\n",
        "Esta é a classe Usuario:"
      ]
    },
    {
      "cell_type": "code",
      "metadata": {
        "colab": {
          "base_uri": "https://localhost:8080/"
        },
        "id": "MtHv7S6LBHUY",
        "outputId": "dc2b6d24-7250-4719-86af-9682eddb3824"
      },
      "source": [
        "class Usuario:\n",
        "# seu código vai \n",
        "\n",
        "  __primeiroNome = \"\"\n",
        "\n",
        "  def setPrimeiroNome(self, firstName):\n",
        "    self.__primeiroNome = firstName\n",
        "\n",
        "  def getPrimeiroNome(self):\n",
        "    return self.__primeiroNome\n",
        "\n",
        "usuario1 = Usuario()\n",
        "usuario1.setPrimeiroNome(\"joe\")\n",
        "print(usuario1.getPrimeiroNome())"
      ],
      "execution_count": 8,
      "outputs": [
        {
          "output_type": "stream",
          "text": [
            "joe\n"
          ],
          "name": "stdout"
        }
      ]
    }
  ]
}