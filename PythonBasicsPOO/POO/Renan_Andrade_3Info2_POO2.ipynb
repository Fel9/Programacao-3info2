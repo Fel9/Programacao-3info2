{
  "nbformat": 4,
  "nbformat_minor": 0,
  "metadata": {
    "colab": {
      "name": "Renan Andrade - 3Info2 - POO2.ipynb",
      "provenance": [],
      "collapsed_sections": []
    },
    "kernelspec": {
      "name": "python3",
      "display_name": "Python 3"
    },
    "language_info": {
      "name": "python"
    }
  },
  "cells": [
    {
      "cell_type": "markdown",
      "metadata": {
        "id": "Ff1EJ0wjFzEN"
      },
      "source": [
        "1. Qual palavra-chave (keyword) você usaria para ter acesso às propriedades e métodos de uma classe\n",
        "estando dentro dela?"
      ]
    },
    {
      "cell_type": "markdown",
      "metadata": {
        "id": "QLLhquZpF6rf"
      },
      "source": [
        "c) A palavra-chave self"
      ]
    },
    {
      "cell_type": "markdown",
      "metadata": {
        "id": "JXOrFxeVF-Pd"
      },
      "source": [
        "Na atividade prática anterior, escrevemos o método hello() dentro da classe Usuario. No exercício a\n",
        "seguir, adicionaremos a este método a capacidade de acessar as propriedades da classe com a palavra-chave\n",
        "self."
      ]
    },
    {
      "cell_type": "code",
      "metadata": {
        "id": "XF0YNMmIFx8e",
        "colab": {
          "base_uri": "https://localhost:8080/"
        },
        "outputId": "32b8f013-eff2-4a5f-c915-704d9c69a399"
      },
      "source": [
        "class Usuario:\n",
        "    primeiroNome = \"\"\n",
        "    sobrenome = \"\"\n",
        "\n",
        "    def digaOla(self):\n",
        "        return \"Olá \" + str(self.primeiroNome)\n",
        "\n",
        "\n",
        "usuario1 = Usuario()\n",
        "usuario1.primeiroNome = \"Jonny\"\n",
        "usuario1.sobrenome = \"Bravo\"\n",
        "print(usuario1.digaOla())"
      ],
      "execution_count": null,
      "outputs": [
        {
          "output_type": "stream",
          "text": [
            "Olá Jonny\n"
          ],
          "name": "stdout"
        }
      ]
    }
  ]
}