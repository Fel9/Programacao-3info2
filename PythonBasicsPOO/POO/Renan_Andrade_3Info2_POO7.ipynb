{
  "nbformat": 4,
  "nbformat_minor": 0,
  "metadata": {
    "colab": {
      "name": "Renan Andrade - 3Info2 - POO7.ipynb",
      "provenance": [],
      "collapsed_sections": []
    },
    "kernelspec": {
      "name": "python3",
      "display_name": "Python 3"
    },
    "language_info": {
      "name": "python"
    }
  },
  "cells": [
    {
      "cell_type": "markdown",
      "metadata": {
        "id": "IJapxwdCNzj5"
      },
      "source": [
        "Nesta atividade prática, vamos retornar à classe Usuario que usamos nas atividades anteriores. Para\n",
        "implementar o princípio do polimorfismo, criaremos uma classe chamada Usuario. A partir dela\n",
        "criaremos algumas classes como: para calcular o número de pontuações que um usuário tem, e o número\n",
        "de artigos que ele criou ou editou. Baseado nesta classe (Usuario), vamos criar as classes Autor e\n",
        "Editor, e ambas calcularão o número de pontuações com o método calcPontuacao(), embora o\n",
        "valor calculado seja diferente entre estas duas classes.\n",
        "\n",
        "Este é o esqueleto da classe Usuario:"
      ]
    },
    {
      "cell_type": "code",
      "metadata": {
        "id": "ZQdv5N87N3-_"
      },
      "source": [
        "class Usuario:\n",
        "    pontos = 0\n",
        "    numeroDeArtigos = 0\n",
        "# Métodos vão aqui"
      ],
      "execution_count": null,
      "outputs": []
    },
    {
      "cell_type": "markdown",
      "metadata": {
        "id": "QGUwP7DyN_Q5"
      },
      "source": [
        "1. Acrescente na classe Usuario métodos para definir e obter o número de artigos:\n",
        "\n",
        "  a) setNumeroDeArtigos(self, nart)\n",
        "\n",
        "  b) getNumeroDeArtigos(self)\n",
        "\n",
        "Obs: variável nart deve ser um inteiro"
      ]
    },
    {
      "cell_type": "code",
      "metadata": {
        "id": "qbT3Yv1WOJvZ"
      },
      "source": [
        "class Usuario:\n",
        "    pontos = 0\n",
        "    numeroDeArtigos = 0\n",
        "\n",
        "    def setNumeroDeArtigos(self, nart):\n",
        "        pass\n",
        "    def getNumeroDeArtigos(self):\n",
        "        pass"
      ],
      "execution_count": null,
      "outputs": []
    },
    {
      "cell_type": "markdown",
      "metadata": {
        "id": "JUlPEVJjOVAW"
      },
      "source": [
        "2. Acrescente à classe o método chamado calcPontuacao(), que realiza os cálculos das pontuações\n",
        "separadamente para cada classe."
      ]
    },
    {
      "cell_type": "code",
      "metadata": {
        "id": "xuL4dxtuObO7"
      },
      "source": [
        "class Usuario:\n",
        "    pontos = 0\n",
        "    numeroDeArtigos = 0\n",
        "\n",
        "    def setNumeroDeArtigos(self, nart):\n",
        "        pass\n",
        "    def getNumeroDeArtigos(self):\n",
        "        pass\n",
        "    def calcPontuacao(self):\n",
        "        pass"
      ],
      "execution_count": null,
      "outputs": []
    },
    {
      "cell_type": "markdown",
      "metadata": {
        "id": "BiIiRLojOywh"
      },
      "source": [
        "3. Crie uma classe chamada Autor que herda da classe de Usuario. Nesta classe (Autor) crie um\n",
        "método chamado calcPontuacao() que retorna o número de pontuações usando o seguinte\n",
        "cálculo:\n",
        "\n",
        "  numeroDeArtigos * 10 + 20"
      ]
    },
    {
      "cell_type": "code",
      "metadata": {
        "id": "GaVWJhndO8Kn"
      },
      "source": [
        "class Autor(Usuario):\n",
        "    def calcPontuacao(self):\n",
        "        return self.numeroDeArtigos() * 10 + 20"
      ],
      "execution_count": null,
      "outputs": []
    },
    {
      "cell_type": "markdown",
      "metadata": {
        "id": "wtYhEXQDPKQE"
      },
      "source": [
        "4. Agora crie também uma classe chamada Editor que herda da classe Usuario. Nesta classe\n",
        "(Editor), crie um método chamado calcPontuacao() que retorne o número de pontuações\n",
        "usando o seguinte cálculo:\n",
        "\n",
        "  numeroDeArtigos * 6 + 15"
      ]
    },
    {
      "cell_type": "code",
      "metadata": {
        "id": "tINF8CZSPM-p"
      },
      "source": [
        "class Editor(Usuario):\n",
        "    def calcPontuacao(self):\n",
        "        return self.numeroDeArtigos() * 6 + 15"
      ],
      "execution_count": null,
      "outputs": []
    },
    {
      "cell_type": "markdown",
      "metadata": {
        "id": "xa8ZCva1PXeF"
      },
      "source": [
        "5. Crie um objeto chamado $autor1, a partir da classe Autor. Agora defina o número de artigos\n",
        "como 8 e imprima as pontuações obtidas pelo autor."
      ]
    },
    {
      "cell_type": "code",
      "metadata": {
        "id": "WfcTlx1cPZ6E"
      },
      "source": [
        "autor1 = Autor()\n",
        "autor1.setNumeroDeArtigos(8)\n",
        "print(f\"A pontuação do autor é: {autor1.calcPontuacao()}\")"
      ],
      "execution_count": null,
      "outputs": []
    },
    {
      "cell_type": "markdown",
      "metadata": {
        "id": "WSrBIq2iPmOW"
      },
      "source": [
        "6. Crie outro objeto chamado $editor1, a partir da classe Editor. Agora defina o número de artigos\n",
        "para 15 e imprima as pontuações que o editor ganhou."
      ]
    },
    {
      "cell_type": "code",
      "metadata": {
        "id": "sfHSNDzMPoC-"
      },
      "source": [
        "editor1 = Editor()\n",
        "editor1.setNumeroDeArtigos(15)\n",
        "print(f\"A pontuação do editor é: {editor1.calcPontuacao()}\")"
      ],
      "execution_count": null,
      "outputs": []
    },
    {
      "cell_type": "markdown",
      "metadata": {
        "id": "VtvQgPDjM4Y9"
      },
      "source": [
        "Código completo, com modifcações:"
      ]
    },
    {
      "cell_type": "code",
      "metadata": {
        "colab": {
          "base_uri": "https://localhost:8080/"
        },
        "id": "IbKTHzfOM722",
        "outputId": "8a006891-bf91-41ee-83b3-a0ce8d043c7f"
      },
      "source": [
        "class Usuario:\n",
        "    pontos = 0\n",
        "    numeroDeArtigos = 0\n",
        "\n",
        "    def setNumeroDeArtigos(self, nart):\n",
        "        self.numeroDeArtigos = nart\n",
        "\n",
        "    def getNumeroDeArtigos(self):\n",
        "        return self.numeroDeArtigos\n",
        "\n",
        "    def calcPontuacao(self):\n",
        "        pass\n",
        "\n",
        "\n",
        "class Autor(Usuario):\n",
        "    def calcPontuacao(self):\n",
        "        return self.getNumeroDeArtigos() * 10 + 20\n",
        "\n",
        "\n",
        "class Editor(Usuario):\n",
        "    def calcPontuacao(self):\n",
        "        return self.getNumeroDeArtigos() * 6 + 15\n",
        "\n",
        "\n",
        "autor1 = Autor()\n",
        "autor1.setNumeroDeArtigos(8)\n",
        "print(f\"A pontuação do autor é: {autor1.calcPontuacao()}\")\n",
        "\n",
        "editor1 = Editor()\n",
        "editor1.setNumeroDeArtigos(15)\n",
        "print(f\"A pontuação do editor é: {editor1.calcPontuacao()}\")\n"
      ],
      "execution_count": 5,
      "outputs": [
        {
          "output_type": "stream",
          "text": [
            "A pontuação do autor é: 100 pontos\n",
            "A pontuação do editor é: 105 pontos\n"
          ],
          "name": "stdout"
        }
      ]
    }
  ]
}